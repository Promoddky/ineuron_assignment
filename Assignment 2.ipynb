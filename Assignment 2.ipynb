{
 "cells": [
  {
   "cell_type": "markdown",
   "id": "abc947ac",
   "metadata": {},
   "source": [
    "** 1.What are the two values of the Boolean data type? How do you write them?**\n",
    "**Ans:**\n",
    "    True\n",
    "    False\n"
   ]
  },
  {
   "cell_type": "code",
   "execution_count": 5,
   "id": "442ec31a",
   "metadata": {},
   "outputs": [
    {
     "name": "stdout",
     "output_type": "stream",
     "text": [
      "True\n",
      "False\n"
     ]
    }
   ],
   "source": [
    "print(10 > 9)\n",
    "print(10 < 9)"
   ]
  },
  {
   "cell_type": "markdown",
   "id": "3236c70c",
   "metadata": {},
   "source": [
    "**2. What are the three different types of Boolean operators?\n",
    "\n",
    "**Ans:**\n",
    "    and   True if both are true          x and y\n",
    "    or    True if atleast one is true    x or y \n",
    "    nor   True only if false             not x\n"
   ]
  },
  {
   "cell_type": "markdown",
   "id": "1abb8c94",
   "metadata": {},
   "source": [
    "**3. Make a list of each Boolean operator's truth tables (i.e. every possible combination of Boolean values for the operator and what it evaluate ).**\n",
    "\n",
    "**Ans:**\n",
    "    Truth Table:\n",
    "    *OR Truth Table*\n",
    "    x          y      Returns\n",
    "    True  OR  True    True\n",
    "    True  OR  False   True\n",
    "    False OR  True    True\n",
    "    False OR  False   False\n",
    "    \n",
    "    *AND Truth Table*\n",
    "    x           y       Returns\n",
    "    True  AND  True     True\n",
    "    True  AND  Flase    False\n",
    "    False AND  True     False\n",
    "    False AND  False    False\n",
    "    \n",
    "    *NOT Truth Table*\n",
    "    NOT x       Returns\n",
    "    NOT True    False\n",
    "    Not False   True\n",
    "    \n",
    "    "
   ]
  },
  {
   "cell_type": "markdown",
   "id": "6f8780c2",
   "metadata": {},
   "source": [
    "**4. What are the values of the following expressions?\n",
    "(5 > 4) and (3 == 5)\n",
    "not (5 > 4)\n",
    "(5 > 4) or (3 == 5)\n",
    "not ((5 > 4) or (3 == 5))\n",
    "(True and True) and (True == False)\n",
    "(not False) or (not True)\n",
    "\n",
    "**Ans:** \n",
    "    1. (5 > 4) and (3 == 5)              -False\n",
    "    2. not (5 > 4)                       -False\n",
    "    3. (5 > 4) or (3 == 5)               -True\n",
    "    4.not ((5 > 4) or (3 == 5))          -False \n",
    "    5.(True and True) and (True == False)-False \n",
    "    6.(not False) or (not True)          -True"
   ]
  },
  {
   "cell_type": "markdown",
   "id": "2a763439",
   "metadata": {},
   "source": [
    "**5. What are the six comparison operators?**\n",
    "**Ans:**\n",
    "    == is equal to\n",
    "    >  is greater than\n",
    "    <  is lesser than\n",
    "    >= is greater than or equal to\n",
    "    <= is lower than or equal to\n",
    "    != is not equal to"
   ]
  },
  {
   "cell_type": "markdown",
   "id": "1bddf2a1",
   "metadata": {},
   "source": [
    "**6. How do you tell the difference between the equal to and assignment operators?Describe a condition and when you would use one.**\n",
    "**Ans: **\n",
    "\n",
    "    == is used to compare two operands and check the value equality.\n",
    "    =  is used to assign value to variable. \n",
    "    Example. a = 10  \n",
    "             b = 12\n",
    "             a == b\n",
    "             output - False"
   ]
  },
  {
   "cell_type": "markdown",
   "id": "ca9c6662",
   "metadata": {},
   "source": [
    "**7. Identify the three blocks in this code:**\n",
    "spam = 0\n",
    "if spam == 10:\n",
    "print('eggs')\n",
    "if spam > 5:\n",
    "print('bacon')\n",
    "else:\n",
    "print('ham')\n",
    "print('spam')\n",
    "print('spam')\n",
    "\n",
    "\n",
    "**Ans:**    "
   ]
  },
  {
   "cell_type": "code",
   "execution_count": 7,
   "id": "525cffca",
   "metadata": {},
   "outputs": [
    {
     "name": "stdout",
     "output_type": "stream",
     "text": [
      "ham\n",
      "spam\n",
      "spam\n"
     ]
    }
   ],
   "source": [
    "spam = 0\n",
    "\n",
    "if spam == 10:      # block 1\n",
    "    print('eggs')\n",
    "if spam > 5:        # block 2\n",
    "    print('bacon')  \n",
    "else:               # block 3\n",
    "    print('ham')\n",
    "    print('spam')\n",
    "    print('spam')"
   ]
  },
  {
   "cell_type": "markdown",
   "id": "8c4a0ef0",
   "metadata": {},
   "source": [
    "**8. Write code that prints Hello if 1 is stored in spam, prints Howdy if 2 is stored in spam, and prints Greetings! if anything else is stored in spam.**\n",
    "\n",
    "**Ans:**"
   ]
  },
  {
   "cell_type": "code",
   "execution_count": 10,
   "id": "c0f5d5d8",
   "metadata": {},
   "outputs": [
    {
     "name": "stdout",
     "output_type": "stream",
     "text": [
      "Howdy\n"
     ]
    }
   ],
   "source": [
    "spam = 2\n",
    "\n",
    "if spam == 1:\n",
    "    print('Hello')\n",
    "elif spam == 2:\n",
    "    print ('Howdy')\n",
    "else:\n",
    "    print('Greetings!')"
   ]
  },
  {
   "cell_type": "markdown",
   "id": "99868e6c",
   "metadata": {},
   "source": [
    "**9.If your programme is stuck in an endless loop, what keys you’ll press?**\n",
    "**Ans:**\n",
    "Clt + C (Interrupt Kernel )"
   ]
  },
  {
   "cell_type": "markdown",
   "id": "a8117089",
   "metadata": {},
   "source": [
    "**10. How can you tell the difference between break and continue?**\n",
    "\n",
    "**Ans:**\n",
    "Break - It is used to terminate the enclosing loop. \n",
    "Continue - It helps to skip the remaining part of the loop and it continue with the next iteration.\n",
    "    "
   ]
  },
  {
   "cell_type": "markdown",
   "id": "483ec0cd",
   "metadata": {},
   "source": [
    "**11. In a for loop, what is the difference between range(10), range(0, 10), and range(0, 10, 1)?**\n",
    "\n",
    "**Ans:*"
   ]
  },
  {
   "cell_type": "code",
   "execution_count": 18,
   "id": "a47e853d",
   "metadata": {},
   "outputs": [
    {
     "name": "stdout",
     "output_type": "stream",
     "text": [
      "0 1 2 3 4 5 6 7 8 9 "
     ]
    }
   ],
   "source": [
    "for i in range(10):\n",
    "    print(i, end  = ' ' )"
   ]
  },
  {
   "cell_type": "code",
   "execution_count": 19,
   "id": "c9567949",
   "metadata": {},
   "outputs": [
    {
     "name": "stdout",
     "output_type": "stream",
     "text": [
      "0 1 2 3 4 5 6 7 8 9 "
     ]
    }
   ],
   "source": [
    "for i in range(0,10):\n",
    "    print(i, end = ' ')"
   ]
  },
  {
   "cell_type": "code",
   "execution_count": 20,
   "id": "d3938502",
   "metadata": {},
   "outputs": [
    {
     "name": "stdout",
     "output_type": "stream",
     "text": [
      "0 1 2 3 4 5 6 7 8 9 "
     ]
    }
   ],
   "source": [
    "for i in range(0,10,1):\n",
    "    print(i, end = ' ')"
   ]
  },
  {
   "cell_type": "markdown",
   "id": "0e0bc258",
   "metadata": {},
   "source": [
    "**12. Write a short program that prints the numbers 1 to 10 using a for loop. Then write an equivalent program that prints the numbers 1 to 10 using a while loop.**\n",
    "\n",
    "**Ans:**"
   ]
  },
  {
   "cell_type": "code",
   "execution_count": 23,
   "id": "aa34c46b",
   "metadata": {},
   "outputs": [
    {
     "name": "stdout",
     "output_type": "stream",
     "text": [
      "1 2 3 4 5 6 7 8 9 10 "
     ]
    }
   ],
   "source": [
    "for i in range(1, 11):\n",
    "    print(i, end= ' ')"
   ]
  },
  {
   "cell_type": "code",
   "execution_count": 25,
   "id": "17a17ba7",
   "metadata": {},
   "outputs": [
    {
     "name": "stdout",
     "output_type": "stream",
     "text": [
      "1 2 3 4 5 6 7 8 9 10 "
     ]
    }
   ],
   "source": [
    "a = 0\n",
    "while a < 10:\n",
    "    a +=1\n",
    "    print(a, end= ' ')"
   ]
  },
  {
   "cell_type": "markdown",
   "id": "6188a9c0",
   "metadata": {},
   "source": [
    "**13. If you had a function named bacon() inside a module named spam, how would you call it after importing spam?**\n",
    "\n",
    "**Ans:**\n",
    " import spam\n",
    " spam.bacon()"
   ]
  }
 ],
 "metadata": {
  "kernelspec": {
   "display_name": "Python 3 (ipykernel)",
   "language": "python",
   "name": "python3"
  },
  "language_info": {
   "codemirror_mode": {
    "name": "ipython",
    "version": 3
   },
   "file_extension": ".py",
   "mimetype": "text/x-python",
   "name": "python",
   "nbconvert_exporter": "python",
   "pygments_lexer": "ipython3",
   "version": "3.9.7"
  }
 },
 "nbformat": 4,
 "nbformat_minor": 5
}
