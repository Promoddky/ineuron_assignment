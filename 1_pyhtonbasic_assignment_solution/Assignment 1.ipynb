{
 "cells": [
  {
   "cell_type": "markdown",
   "id": "37e56b6e",
   "metadata": {},
   "source": [
    "1. In the below elements which of them are values or an expression? eg:- values can be integer or string and expressions will be mathematical operators.\n",
    "*          Mathematical operator- Multiply    \n",
    "'hello'    String\n",
    "-87.8      Float\n",
    "-          Mathematical operator - substraction\n",
    "/          Mathematical operator - divide\n",
    "+          Mathematical operator - addition\n",
    "6          Integer\n"
   ]
  },
  {
   "cell_type": "markdown",
   "id": "75bde6a9",
   "metadata": {},
   "source": [
    "2. What is the difference between string and variable?\n",
    "Ans:\n",
    "String - It is datatype contains collection of character.\n",
    "Variable - It is a label that can be assigned to a value."
   ]
  },
  {
   "cell_type": "markdown",
   "id": "feb0e361",
   "metadata": {},
   "source": [
    "3. Describe three different data types.\n",
    "Ans: \n",
    "    int : It stores integer both positive and negative, it does not contain any decimal values\n",
    "    float: It stores decimal values\n",
    "    str: It stores sequence of characters\n",
    "        "
   ]
  },
  {
   "cell_type": "markdown",
   "id": "e397c833",
   "metadata": {},
   "source": [
    "4. What is an expression made up of? What do all expressions do?\n",
    "Ans:\n",
    "Expression is made up of operator and operand(values, variables). Expressions need to be evaluated and produce results.\n",
    "    "
   ]
  },
  {
   "cell_type": "markdown",
   "id": "42c36337",
   "metadata": {},
   "source": [
    "5. This assignment statements, like spam = 10. What is the difference between an expression and a statement?\n",
    "Ans:\n",
    "Expression is statement that returns value and is composed of variables, operators, fuction call and literals.\n",
    "Statement- It referes to a piece of code that executes a specific instruction or tell computer to complete a task.\n"
   ]
  },
  {
   "cell_type": "markdown",
   "id": "62afcbf6",
   "metadata": {},
   "source": [
    "6. After running the following code, what does the variable bacon contain?\n",
    "bacon = 22\n",
    "bacon + 1\n",
    "Ans:\n",
    "    bacon will give 23"
   ]
  },
  {
   "cell_type": "markdown",
   "id": "2822acd5",
   "metadata": {},
   "source": [
    "7. What should the values of the following two terms be?\n",
    "'spam' + 'spamspam'\n",
    "'spam' * 3\n",
    "Ans:\n",
    "    'spam' + 'spamspam'gives 'spamspamspam'(in this case it is performing concatination operation)\n",
    "    'spam' * 3 gives 'spamspamspam' (in this case it give 3 times repeat the term spam)\n",
    "    "
   ]
  },
  {
   "cell_type": "markdown",
   "id": "b6960667",
   "metadata": {},
   "source": [
    "8. Why is eggs a valid variable name while 100 is invalid?\n",
    "Ans:\n",
    "    eggs a valid variable, while 100 is invalid, rules state that variable names must start with alphabet or underscore, it can not start with number allthough it can be alphanumeric.\n"
   ]
  },
  {
   "cell_type": "markdown",
   "id": "b9e5cd23",
   "metadata": {},
   "source": [
    "9. What three functions can be used to get the integer, floating-point number, or string version of a value?\n",
    "Ans:\n",
    "    int()\n",
    "    float()\n",
    "    str()"
   ]
  },
  {
   "cell_type": "markdown",
   "id": "ad15d25e",
   "metadata": {},
   "source": [
    "10. Why does this expression cause an error? How can you fix it?\n",
    "'I have eaten ' + 99 + ' burritos.'\n",
    "Ans:\n",
    "    Error is due to conatenation of number with string which is not possible, once we convert number to string its possible:\n",
    "        1. 'I have eaten ' + '99' + ' burritos.'(by using single quote on number to convert it to string)\n",
    "        2. 'I have eaten ' + str(99) + ' burritos.' (by using str() to convert it to string)"
   ]
  }
 ],
 "metadata": {
  "kernelspec": {
   "display_name": "Python 3 (ipykernel)",
   "language": "python",
   "name": "python3"
  },
  "language_info": {
   "codemirror_mode": {
    "name": "ipython",
    "version": 3
   },
   "file_extension": ".py",
   "mimetype": "text/x-python",
   "name": "python",
   "nbconvert_exporter": "python",
   "pygments_lexer": "ipython3",
   "version": "3.9.7"
  }
 },
 "nbformat": 4,
 "nbformat_minor": 5
}
